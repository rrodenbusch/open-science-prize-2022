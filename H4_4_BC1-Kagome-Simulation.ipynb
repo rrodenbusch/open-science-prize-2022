{
 "cells": [
  {
   "cell_type": "code",
   "execution_count": 1,
   "id": "5ced1fe2",
   "metadata": {},
   "outputs": [
    {
     "name": "stdout",
     "output_type": "stream",
     "text": [
      "Start at Mon Feb 20 18:36:58 2023 UTC\n",
      "\n",
      "qTools: myTools(major=1, minor=1, micro=0)\n",
      "Qiskit: <dict>\n",
      "    qiskit-terra : 0.22.4\n",
      "    qiskit-aer : 0.11.2\n",
      "    qiskit-ignis : 0.7.1\n",
      "    qiskit-ibmq-provider : 0.19.2\n",
      "    qiskit : 0.39.5\n",
      "    qiskit-nature : 0.5.2\n",
      "    qiskit-finance : 0.3.4\n",
      "    qiskit-optimization : 0.4.0\n",
      "    qiskit-machine-learning : None\n",
      "\n"
     ]
    },
    {
     "data": {
      "text/html": [
       "<h3>Version Information</h3><table><tr><th>Qiskit Software</th><th>Version</th></tr><tr><td><code>qiskit-terra</code></td><td>0.22.4</td></tr><tr><td><code>qiskit-aer</code></td><td>0.11.2</td></tr><tr><td><code>qiskit-ignis</code></td><td>0.7.1</td></tr><tr><td><code>qiskit-ibmq-provider</code></td><td>0.19.2</td></tr><tr><td><code>qiskit</code></td><td>0.39.5</td></tr><tr><td><code>qiskit-nature</code></td><td>0.5.2</td></tr><tr><td><code>qiskit-finance</code></td><td>0.3.4</td></tr><tr><td><code>qiskit-optimization</code></td><td>0.4.0</td></tr><tr><th>System information</th></tr><tr><td>Python version</td><td>3.10.6</td></tr><tr><td>Python compiler</td><td>GCC 11.3.0</td></tr><tr><td>Python build</td><td>main, Nov 14 2022 16:10:14</td></tr><tr><td>OS</td><td>Linux</td></tr><tr><td>CPUs</td><td>2</td></tr><tr><td>Memory (Gb)</td><td>31.247417449951172</td></tr><tr><td colspan='2'>Mon Feb 20 12:36:58 2023 CST</td></tr></table>"
      ],
      "text/plain": [
       "<IPython.core.display.HTML object>"
      ]
     },
     "metadata": {},
     "output_type": "display_data"
    }
   ],
   "source": [
    "import kagome, qiskit\n",
    "import numpy as np\n",
    "import matplotlib.pyplot as plt\n",
    "\n",
    "startTime = kagome.strtime()\n",
    "print(f\"Start at {startTime}\\n\")\n",
    "qVersion=kagome.init_notebook(output=True)\n",
    "\n",
    "import qiskit.tools.jupyter\n",
    "%qiskit_version_table"
   ]
  },
  {
   "cell_type": "code",
   "execution_count": 2,
   "id": "1d742f6c",
   "metadata": {},
   "outputs": [
    {
     "name": "stdout",
     "output_type": "stream",
     "text": [
      "Available backends\n",
      "\tibmq_qasm_simulator\n",
      "\tibmq_quito\n",
      "\tibmq_belem\n",
      "\tsimulator_stabilizer\n",
      "\tibm_oslo\n",
      "\tibmq_lima\n",
      "\tsimulator_extended_stabilizer\n",
      "\tsimulator_mps\n",
      "\tsimulator_statevector\n",
      "\tibmq_manila\n",
      "\tibm_nairobi\n"
     ]
    }
   ],
   "source": [
    "# Setup Account, Provider, Service and Backends\n",
    "from qiskit_ibm_runtime import (QiskitRuntimeService, Session, Options,\n",
    "                                Estimator as RuntimeEstimator)\n",
    "\n",
    "provider, service = kagome.get_provider(channel='ibm_quantum',\n",
    "                                        hub='ibm-q', group='open', project='main',\n",
    "                                        output=True,   # Print out the available backends\n",
    "                                       )\n",
    "\n",
    "from qiskit.providers.fake_provider import FakeGuadalupe\n",
    "guadalupeFake    = FakeGuadalupe()\n",
    "simulator        = provider.get_backend('simulator_statevector')\n",
    "nairobi          = provider.get_backend('ibm_nairobi')\n",
    "oslo             = provider.get_backend('ibm_oslo')"
   ]
  },
  {
   "cell_type": "markdown",
   "id": "8ae47d61",
   "metadata": {},
   "source": [
    "# Hamiltonians and Ansatze"
   ]
  },
  {
   "cell_type": "code",
   "execution_count": 3,
   "id": "1aa64aa2",
   "metadata": {
    "scrolled": false
   },
   "outputs": [
    {
     "name": "stdout",
     "output_type": "stream",
     "text": [
      "\n",
      "H12_12: Edges 18 Eigenvalues 64 \n",
      "\t-18.0000:[2]\n",
      "\t-16.9613:[3]\n",
      "\t-16.9449:[6]\n",
      "\t-16.9296:[6]\n",
      "\t-16.8098:[3]\n",
      "\t-16.7353:[1]\n",
      "\t-16.7293:[2]\n",
      "\t-16.5674:[2]\n",
      "\t-16.3117:[3]\n",
      "\t-16.2754:[6]\n",
      "\t-16.2259:[1]\n",
      "\t-16.0412:[6]\n",
      "\t-15.6539:[3]\n",
      "\t-15.4601:[2]\n",
      "\t-15.3308:[3]\n",
      "\t-15.3178:[5]\n",
      "\t-15.1668:[10]\n",
      "\n",
      "H12_16: Edges 18 Eigenvalues 64 \n",
      "\t-18.0000:[32]\n",
      "\t-16.9613:[25]\n",
      "\t-16.9449:[7]\n",
      "\n",
      "H4_7: Edges 4 Eigenvalues 64 \n",
      "\t -6.0000:[8]\n",
      "\t -4.0000:[24]\n",
      "\t -2.0000:[32]\n",
      "\n",
      "H4_4: Edges 4 Eigenvalues 16 \n",
      "\t -6.0000:[1]\n",
      "\t -4.0000:[3]\n",
      "\t -2.0000:[4]\n",
      "\t  2.0000:[3]\n",
      "\t  4.0000:[5]\n",
      "\n",
      "H3_3: Edges 3 Eigenvalues 8 \n",
      "\t -3.0000:[4]\n",
      "\t  3.0000:[4]\n",
      "\n",
      "Hsq_4: Edges 4 Eigenvalues 16 \n",
      "\t -8.0000:[1]\n",
      "\t -4.0000:[3]\n",
      "\t -0.0000:[7]\n",
      "\t  4.0000:[5]\n",
      "\n",
      "Hsq_7: Edges 4 Eigenvalues 64 \n",
      "\t -8.0000:[8]\n",
      "\t -4.0000:[24]\n",
      "\t -0.0000:[32]\n",
      "\n",
      "H4_4_BC1: Edges 4 Eigenvalues 16 \n",
      "\t -6.0000:[5]\n",
      "\t -2.0000:[3]\n",
      "\t  2.0000:[3]\n",
      "\t  6.0000:[5]\n",
      "\n",
      "H4_7_BC1: Edges 4 Eigenvalues 64 \n",
      "\t -6.0000:[40]\n",
      "\t -2.0000:[24]\n",
      "Hamiltonian Dimensions\n",
      "\t12_12:\t(4096, 4096)\n",
      "\t12_16:\t(65536, 65536)\n",
      "\t4_7:\t(128, 128)\n",
      "\t4_4:\t(16, 16)\n",
      "\t3_3:\t(8, 8)\n",
      "\tsq_4:\t(16, 16)\n",
      "\tsq_7:\t(128, 128)\n",
      "\t4_4_BC1:\t(16, 16)\n",
      "\t4_7_BC1:\t(128, 128)\n",
      "-------- A4_I_L3 -------------\n",
      "A[A4_I_L3].expectation(4_4)=0.0 E0=-6.0\n",
      "-------- A3_I_L1 -------------\n",
      "A[A3_I_L1].expectation(3_3)=-1.5 E0=-3.0\n",
      "-------- A3_I0_L1 -------------\n",
      "A[A3_I0_L1].expectation(3_3)=3.0 E0=-3.0\n",
      "-------- A3_I1_L1 -------------\n",
      "A[A3_I1_L1].expectation(3_3)=-1.0 E0=-3.0\n",
      "-------- A4_I4_L1 -------------\n",
      "A[A4_I4_L1].expectation(sq_4)=0.0 E0=-8.0\n",
      "-------- A4_I5_L1 -------------\n",
      "A[A4_I5_L1].expectation(sq_4)=4.0 E0=-8.0\n",
      "-------- A4_I6_L1 -------------\n",
      "A[A4_I6_L1].expectation(4_4_BC1)=-2.0 E0=-6.0\n",
      "-------- A4_SU2_X0 -------------\n",
      "-------- A4_SU2_X0 -------------\n",
      "A[A4_SU2_X0].expectation(4_4_BC1)=6.0 E0=-6.0\n",
      "-------- A4_SU2_X1 -------------\n",
      "A[A4_SU2_X1].expectation(4_4_BC1)=-2.0 E0=-6.0\n",
      "-------- A4_SU2_X2 -------------\n",
      "A[A4_SU2_X2].expectation(sq_4)=-4.0 E0=-8.0\n",
      "'A3_SU2'\t A3_SU2 nqbits:3 nparams:18 gates:{'ry': 9, 'rz': 9, 'cx': 6}\n",
      "'A3_7_SU2_opt'\t A3_7_SU2_opt nqbits:7 nparams:18 gates:{'rz': 27, 'sx': 18, 'cx': 6}\n",
      "'A4_SU2'\t A4_SU2 nqbits:4 nparams:24 gates:{'ry': 12, 'rz': 12, 'cx': 9}\n",
      "'A4_7_SU2_opt'\t A4_7_SU2_opt nqbits:7 nparams:24 gates:{'rz': 36, 'sx': 24, 'cx': 16}\n",
      "'A12_SU2'\t A12_SU2 nqbits:12 nparams:72 gates:{'ry': 36, 'rz': 36, 'cx': 33}\n",
      "'A12_SU2_opt'\t A12_SU2_opt nqbits:16 nparams:72 gates:{'rz': 108, 'sx': 72, 'cx': 33}\n",
      "'A3_cust1'\t A3_cust1 nqbits:3 nparams:6 gates:{'cx': 3, 'rz': 3, 'ry': 3, 'h': 2}\n",
      "'A3_7_cust1'\t A3_7_cust1 nqbits:7 nparams:6 gates:{'rz': 13, 'sx': 8, 'cx': 3}\n",
      "'A4_cust1'\t A4_cust1 nqbits:4 nparams:8 gates:{'cx': 5, 'rz': 4, 'ry': 4, 'h': 2}\n",
      "'A4_7_cust1'\t A4_7_cust1 nqbits:7 nparams:8 gates:{'rz': 16, 'sx': 10, 'cx': 8}\n",
      "'A12_cust1'\t A12_cust1 nqbits:12 nparams:24 gates:{'cx': 17, 'rz': 12, 'ry': 12, 'h': 6}\n",
      "'A12_16_cust1'\t A12_16_cust1 nqbits:16 nparams:24 gates:{'rz': 48, 'sx': 30, 'cx': 17}\n",
      "'A4_I_L3'\t |0101> A4_Ising_L3 nqbits:4 nparams:12 gates:{'rx': 4, 'ry': 4, 'rz': 4, 'x': 2}\n",
      "'A3_I_L1'\t |R(pi/3)> A3_Ising_L1 nqbits:3 nparams:9 gates:{'rx': 5, 'ry': 3, 'rz': 3}\n",
      "'A3_I0_L1'\t |000> A3_Ising_L1 nqbits:3 nparams:9 gates:{'rx': 3, 'ry': 3, 'rz': 3}\n",
      "'A3_I1_L1'\t |101> A3_Ising_L1 nqbits:3 nparams:9 gates:{'rx': 3, 'ry': 3, 'rz': 3, 'x': 2}\n",
      "'A4_I4_L1'\t |0xy0> A4_Ising_L1 nqbits:4 nparams:12 gates:{'rx': 7, 'ry': 4, 'rz': 4}\n",
      "'A4_I5_L1'\t |0000> {Alabel} nqbits:4 nparams:12 gates:{'rx': 4, 'ry': 4, 'rz': 4}\n",
      "'A4_I6_L1'\t |0000> A4_I6_L1 nqbits:4 nparams:12 gates:{'rx': 5, 'ry': 4, 'rz': 4, 'x': 2}\n",
      "'A4_SU2_X0'\t |0000> A4_SU2_X0 nqbits:4 nparams:24 gates:{'ry': 12, 'rz': 12, 'cx': 9}\n",
      "'A4_SU2_X1'\t |1x10> A4_SU2_X1 nqbits:4 nparams:24 gates:{'ry': 12, 'rz': 12, 'cx': 9, 'x': 2, 'rx': 1}\n",
      "'A4_SU2_X2'\t |1010> A4_SU2_X2 nqbits:4 nparams:24 gates:{'ry': 12, 'rz': 12, 'cx': 9, 'x': 2}\n"
     ]
    }
   ],
   "source": [
    "# import statevector\n",
    "import hamiltonians, ansatze\n",
    "backends = {'7':nairobi,'16':FakeGuadalupe()}\n",
    "#===================  Cell Structures ===================#\n",
    "cells = hamiltonians.init_cells()\n",
    "positions = hamiltonians.init_positions()\n",
    "\n",
    "#====================  Hamiltonians =====================#\n",
    "hams,eigenvalue_results,targets = hamiltonians.init_hamiltonians(cells=cells,force=False)\n",
    "print(\"Hamiltonian Dimensions\")\n",
    "for key,value in hams.items():\n",
    "    print(f\"\\t{key}:\\t{value.primitive.dim}\")\n",
    "    \n",
    "#=======================  Ansatze =======================#\n",
    "Anzs = ansatze.init_ansatze(H=hams,backends=backends,targets=targets)\n",
    "ansatze.list_Ansatz(Anzs)"
   ]
  },
  {
   "cell_type": "code",
   "execution_count": 4,
   "id": "b7859221",
   "metadata": {},
   "outputs": [
    {
     "name": "stdout",
     "output_type": "stream",
     "text": [
      "12_16\n",
      "12_12\n",
      "5_5\n",
      "4_7\n",
      "4_4\n",
      "sq_4\n",
      "sq_7\n",
      "3_7\n",
      "3_3\n",
      "4_4_BC1\n",
      "4_7_BC1\n"
     ]
    },
    {
     "data": {
      "image/png": "[encoded data removed]",
      "text/plain": [
       "<Figure size 640x480 with 1 Axes>"
      ]
     },
     "metadata": {},
     "output_type": "display_data"
    }
   ],
   "source": [
    "for key in cells:\n",
    "    print(key)\n",
    "\n",
    "_=kagome.draw_lattice(cells['4_7'],positions['4_7'])"
   ]
  },
  {
   "cell_type": "markdown",
   "id": "ef12c09e",
   "metadata": {},
   "source": [
    "# Optimizer Options"
   ]
  },
  {
   "cell_type": "code",
   "execution_count": 5,
   "id": "ede131f6",
   "metadata": {},
   "outputs": [],
   "source": [
    "optimizers={}\n",
    "from qiskit.algorithms.optimizers import SPSA\n",
    "optimizers['00'] = {'opt': SPSA(maxiter=5), 'label':'SPSA(5)' }\n",
    "optimizers['01'] = {'opt': SPSA(maxiter=75), 'label':'SPSA(75)' }\n",
    "optimizers['02'] = {'opt': SPSA(maxiter=75,callback=kagome.SPSA_callback), \n",
    "                    'label':'SPSA(75,cb)' }\n",
    "optimizers['03'] = {'opt': SPSA(maxiter=75,callback=kagome.SPSA_callback,blocking=True),\n",
    "                    'label':'SPSA(75,cb,block)' }\n",
    "optimizers['04'] = {'opt': SPSA(maxiter=150,callback=kagome.SPSA_callback),\n",
    "                    'label':'SPSA(150,cb)' }\n",
    "optimizers['05'] = {'opt': SPSA(maxiter=150,callback=kagome.SPSA_callback,blocking=True),\n",
    "                    'label':'SPSA(150,cb,block)' }\n",
    "optimizers['06'] = {'opt': SPSA(maxiter=300,callback=kagome.SPSA_callback),\n",
    "                    'label':'SPSA(300,cb)' }\n",
    "optimizers['07'] = {'opt': SPSA(maxiter=300,callback=kagome.SPSA_callback,blocking=True),\n",
    "                    'label':'SPSA(300,cb,block)' }\n",
    "optimizers['08'] = {'opt': SPSA(maxiter=150,callback=kagome.SPSA_callback,trust_region=True),\n",
    "                    'label':'SPSA(150,cb,trust)' }\n",
    "optimizers['09'] = {'opt': SPSA(maxiter=300,callback=kagome.SPSA_callback,trust_region=True),\n",
    "                    'label':'SPSA(300,cb,trust)' }\n",
    "optimizers['10'] = {'opt': SPSA(maxiter=300,callback=kagome.SPSA_callback,second_order=True),\n",
    "                    'label':'SPSA(300,cb,O(2)' }\n",
    "optimizers['11'] = {'opt': SPSA(maxiter=100,callback=kagome.SPSA_callback),\n",
    "                    'label':'SPSA(100,cb)' }\n",
    "optimizers['12'] = {'opt': SPSA(maxiter=100,callback=kagome.SPSA_callback,trust_region=True),\n",
    "                    'label':'SPSA(100,cb,trust)' }\n",
    "optimizers['13'] = {'opt': SPSA(maxiter=350,callback=kagome.SPSA_callback),\n",
    "                    'label':'SPSA(350,cb)' }\n",
    "optimizers['14'] = {'opt': SPSA(maxiter=200,callback=kagome.SPSA_callback),\n",
    "                    'label':'SPSA(200,cb)' }"
   ]
  },
  {
   "cell_type": "code",
   "execution_count": 6,
   "id": "8b122469",
   "metadata": {},
   "outputs": [],
   "source": [
    "from qiskit_aer import AerSimulator, StatevectorSimulator\n",
    "\n",
    "# from .aerbackend import AerBackend, AerError\n",
    "max_parallel=3\n",
    "nairobiSim   = AerSimulator(max_parallel_experiments=max_parallel).from_backend(nairobi)\n",
    "\n",
    "svectorSim   = StatevectorSimulator(max_parallel_experiments=max_parallel)\n",
    "nairobiSim   = AerSimulator(max_parallel_experiments=max_parallel).from_backend(nairobi)\n",
    "osloSim      = AerSimulator(max_parallel_experiments=max_parallel).from_backend(oslo)\n",
    "guadalupeSim = AerSimulator(max_parallel_experiments=max_parallel).from_backend(FakeGuadalupe())\n",
    "\n",
    "from qiskit.primitives import BackendEstimator\n",
    "backendNairobi = BackendEstimator(nairobiSim, skip_transpilation=False)"
   ]
  },
  {
   "cell_type": "code",
   "execution_count": null,
   "id": "05c56339",
   "metadata": {},
   "outputs": [],
   "source": [
    "def runJob(Hkey=None,Akey=None,miniAkey=None,nshots=1024,optimization=3,resilience=1,\n",
    "          pt_idx='Random',backend=None, Okey=None, numRuns=-1, service=None, x0=None, fname=None,\n",
    "          job_tags=['runJob']):\n",
    "    from qiskit_aer.backends.aerbackend import AerBackend, AerError\n",
    "    if backend is None or isinstance(backend,AerBackend):\n",
    "        service = None\n",
    "        options = { 'shots': nshots }\n",
    "    else:\n",
    "        service = service\n",
    "        options = Options(optimization_level = optimization, \n",
    "                          resilience_level  = resilience,\n",
    "                          execution = {'shots':nshots}, \n",
    "                          environment = {'job_tags':job_tags},\n",
    "                         )\n",
    "#                           transpilation = {'skip_translation': False},        \n",
    "\n",
    "    #==================== Job Control ======================\n",
    "    label = (f\"{backend}['shots':{nshots} 'Optimize':{optimization} 'Resilience':{resilience}]\\n\"\n",
    "             f\"H:{Hkey} A:{Anzs[Akey].name}\\nOpt:{optimizers[Okey]['label']} x0={pt_idx}\")\n",
    "    if numRuns > 0:\n",
    "        curCache = kagome.load_results(fname)\n",
    "        for i in range(numRuns):\n",
    "            print(f\"Starting Run {i}\")\n",
    "            custom_vqe = kagome.run_kagomeVQE(hams[Hkey], Anzs[Akey], optimizers[Okey]['opt'], \n",
    "                                         miniAnsatz=Anzs[miniAkey],\n",
    "                                         timeout=None, x0=x0, \n",
    "                                         target=np.around(targets[Hkey],6),\n",
    "                                         service=service, backend=backend,\n",
    "                                         resultsList=curCache, \n",
    "                                         label=label, options=options )\n",
    "            kagome.save_results(curCache,fname)\n",
    "        return curCache\n",
    "    else:\n",
    "        print(label)\n",
    "        \n",
    "def runConfig(orgConfig,updates=None, plot=False,global_seed=None):\n",
    "    from qiskit.utils import algorithm_globals\n",
    "    updates = {} if updates is None else updates\n",
    "    finalConfig = {key: updates.get(key, orgConfig[key]) for key in orgConfig}\n",
    "    if global_seed is not None:\n",
    "        algorithm_globals.random_seed = global_seed   # For SPSA stochastic repeatability\n",
    "    curCache = runJob(**finalConfig)\n",
    "    if plot:\n",
    "        kagome.plot_SPSA_convergence(curCache,indices=[-1],conv_lim = 0.03,movingAvg=5,\n",
    "                                     perc=6,convergence=False,minStart=20)\n",
    "    return curCache"
   ]
  },
  {
   "cell_type": "code",
   "execution_count": null,
   "id": "3083ad4a",
   "metadata": {
    "scrolled": false
   },
   "outputs": [
    {
     "name": "stdout",
     "output_type": "stream",
     "text": [
      "Loaded 9 results from H4_4_BC1.dump\n",
      "Loaded 9 results from H4_4_BC1.dump\n",
      "Starting Run 0\n",
      "Provided Options\n",
      "simulator_statevector['shots':1024 'Optimize':3 'Resilience':1]\n",
      "H:4_4_BC1 A:|0000> A4_SU2_X0\n",
      "Opt:SPSA(300,cb) x0=Random idx=9 simulator_statevector SPSA\n",
      "Runtime 1 hours, 14 min\n",
      "Skipping iteration 4 with step=0.0\n",
      "Skipping iteration 273 with step=0.0\n",
      "Skipping iteration 288 with step=0.0\n",
      "Convergence Failure\n",
      "Duration 1 hours, 14 min Shots=None Iterations=300 Accepted=100.0 % Rejected=0 min at n=203\n",
      "Expected -6.0 Ground State: Computed -5.996094 Min -6.0 \n",
      "Error 0.065104 % Minimum 0.0 %\n"
     ]
    },
    {
     "data": {
      "image/png": "[encoded data removed]",
      "text/plain": [
       "<Figure size 850x600 with 1 Axes>"
      ]
     },
     "metadata": {},
     "output_type": "display_data"
    },
    {
     "name": "stdout",
     "output_type": "stream",
     "text": [
      "Loaded 10 results from H4_4_BC1.dump\n",
      "Starting Run 0\n",
      "Provided Options\n",
      "simulator_statevector['shots':1024 'Optimize':3 'Resilience':1]\n",
      "H:4_4_BC1 A:|1x10> A4_SU2_X1\n",
      "Opt:SPSA(300,cb) x0=Random idx=10 simulator_statevector SPSA\n"
     ]
    }
   ],
   "source": [
    "#================= Problem Setup =====================\n",
    "fname='H4_4_BC1.dump'\n",
    "curCache = kagome.load_results(fname)\n",
    "#backends: 'simulator_statevector' svectorSim nairobiSim guadalupeSim\n",
    "pt_idx = 'Random'        # '0'-> 0 vector; [int] -> point cache; else -> Random\n",
    "x0 =  kagome.getX0(pt_idx,curCache)\n",
    "runconfig = {'Hkey'         : '4_4_BC1',\n",
    "             'fname'        : fname,\n",
    "             'Akey'         : 'A4_SU2_X0',\n",
    "             'miniAkey'     : 'A4_SU2_X0',\n",
    "             'Okey'         : '06',         # 00->10 02->75 04->150 06->300 13->350 14->200\n",
    "             'x0'           : x0,'pt_idx': pt_idx,\n",
    "             'nshots'       : 1024,\n",
    "             'optimization' : 3,\n",
    "             'resilience'   : 1,\n",
    "             'service'      : service,\n",
    "             'backend'      : 'simulator_statevector', \n",
    "             'numRuns'      : 1,\n",
    "             'job_tags'     : ['H4_4_BC1','A4_SU2_X0','Opt(3)','Res(1)','shots(1024)']\n",
    "            }\n",
    "from qiskit.utils import algorithm_globals\n",
    "CurCache = runConfig(runconfig, plot=True, global_seed=177801,\n",
    "                     updates=None )\n",
    "\n",
    "CurCache = runConfig(runconfig, plot=True, global_seed=177801,\n",
    "                     updates={'Akey':'A4_SU2_X1','miniAkey':'A4_SU2_X1',\n",
    "                              'job_tags' : ['H4_4_BC1','A4_SU2_X1','Opt(3)',\n",
    "                                            'Res(1)','shots(1024)']})\n",
    "\n",
    "CurCache = runConfig(runconfig, plot=True, global_seed=177801,\n",
    "                     updates={'Akey':'A4_SU2_X2','miniAkey':'A4_SU2_X2',\n",
    "                              'job_tags' : ['H4_4_BC1','A4_SU2_X2','Opt(3)',\n",
    "                                            'Res(1)','shots(1024)']})\n",
    "\n",
    "\n",
    "\n",
    "# algorithm_globals.random_seed = 177801   # For SPSA stochastic repeatability\n",
    "# curCache = runJob(**runconfig)\n",
    "# kagome.plot_SPSA_convergence(curCache,indices=[-1],conv_lim = 0.03,movingAvg=5,\n",
    "#                              perc=6,convergence=False,minStart=20)\n",
    "\n",
    "# orgconfig=runconfig.copy()\n",
    "# updates = {'Akey':'A4_SU2_X1','miniAkey':'A4_SU2_X1',\n",
    "#            'job_tags' : ['H4_4_BC1','A4_SU2_X1','Opt(3)','Res(1)','shots(1024)']}\n",
    "# runconfig = {key: updates.get(key, orgconfig[key]) for key in orgconfig}\n",
    "\n",
    "# algorithm_globals.random_seed = 177801   # For SPSA stochastic repeatability\n",
    "# curCache = runJob(**runconfig)\n",
    "# kagome.plot_SPSA_convergence(curCache,indices=[-1],conv_lim = 0.03,movingAvg=5,\n",
    "#                              perc=6,convergence=False,minStart=20)\n",
    "\n",
    "# updates = {'Akey':'A4_SU2_X2','miniAkey':'A4_SU2_X2',\n",
    "#            'job_tags' : ['H4_4_BC1','A4_SU2_X2','Opt(3)','Res(1)','shots(1024)']}\n",
    "# runconfig = {key: updates.get(key, orgconfig[key]) for key in orgconfig}\n",
    "\n",
    "# algorithm_globals.random_seed = 177801   # For SPSA stochastic repeatability\n",
    "# curCache = runJob(**runconfig)\n",
    "# kagome.plot_SPSA_convergence(curCache,indices=[-1],conv_lim = 0.03,movingAvg=5,\n",
    "#                              perc=6,convergence=False,minStart=20)"
   ]
  },
  {
   "cell_type": "code",
   "execution_count": null,
   "id": "72b08fe5",
   "metadata": {
    "scrolled": false
   },
   "outputs": [],
   "source": [
    "kagome.plot_SPSA_convergence(curCache,\n",
    "                             indices=[-1,-2, -3],\n",
    "                             conv_lim = 0.03,\n",
    "                             movingAvg=5,\n",
    "                             perc=6,\n",
    "                             convergence=False,\n",
    "                             minStart=20)"
   ]
  },
  {
   "cell_type": "markdown",
   "id": "51a460b9",
   "metadata": {},
   "source": [
    "# Additional Python Code to Include"
   ]
  },
  {
   "cell_type": "code",
   "execution_count": 10,
   "id": "b5834dae",
   "metadata": {},
   "outputs": [],
   "source": [
    "# Options(optimization_level=0,\n",
    "#         resilience_level=0,\n",
    "#         max_execution_time=None,\n",
    "#         transpilation=TranspilationOptions(skip_transpilation=False, \n",
    "#                                            initial_layout=None, \n",
    "#                                            layout_method=None, \n",
    "#                                            routing_method=None, \n",
    "#                                            approximation_degree=None), \n",
    "#         resilience=ResilienceOptions(noise_amplifier='TwoQubitAmplifier', \n",
    "#                                      noise_factors=(1, 3, 5), extrapolator='LinearExtrapolator'), \n",
    "#         execution=ExecutionOptions(shots=1000, init_qubits=True), \n",
    "#         environment=EnvironmentOptions(log_level='WARNING', callback=None, job_tags=[]), \n",
    "#         simulator=SimulatorOptions(noise_model=None, seed_simulator=None, coupling_map=None, basis_gates=None)\n",
    "#        )\n",
    "\n",
    "# options.optimization_level = 0 # No optimization\n",
    "# options.optimization_level = 1 # Light optimization  (Default for transpile)\n",
    "# options.optimization_level = 2 # Medium optimization\n",
    "# options.optimization_level = 3 # Dynamical decoupling\n",
    "\n",
    "\n",
    "# options.resilience_level = 0 # No error mitigation\n",
    "# options.resilience_level = 1 # T-REx\n",
    "# options.resilience_level = 2 # ZNE (Zero Noise Extraction)\n",
    "# options.resilience_level = 3 # PEC (Probabilistic Error Correction)"
   ]
  },
  {
   "cell_type": "code",
   "execution_count": 11,
   "id": "2ab36dba",
   "metadata": {},
   "outputs": [],
   "source": [
    "# idx = -1\n",
    "# curResult = curCache[idx]\n",
    "\n",
    "# plot_bloch_multivector(VQE2MiniSvector(curResult))\n",
    "# displayNormedData(curResult,nqubits=4)\n",
    "\n",
    "# Svector_normed,_= getNormedState(curResult)\n",
    "# coords=getCoords(Svector_normed)\n",
    "# for q_coords in coords:\n",
    "#     print(np.real(q_coords))"
   ]
  },
  {
   "cell_type": "code",
   "execution_count": 12,
   "id": "a35ac253",
   "metadata": {},
   "outputs": [
    {
     "name": "stdout",
     "output_type": "stream",
     "text": [
      "Loaded 1 results from H4_4_BC1.dump\n",
      "0: 'None['shots':1024 'Optimize':3 'Resilience':1]H:4_4_BC1A:|0000> A4_SU2_X0 Opt:SPSA(350,cb) x0=Random idx=0'\n",
      "Computed: -5.963 Min -6.006 Target -6.0 Error 0.618% Min 0.107%\n",
      "\n",
      "\n",
      "\n"
     ]
    }
   ],
   "source": [
    "curCache = kagome.load_results(fname)\n",
    "kagome.list_results(curCache, reverse=True)"
   ]
  },
  {
   "cell_type": "code",
   "execution_count": 13,
   "id": "4e6d5c3f",
   "metadata": {},
   "outputs": [],
   "source": [
    "import importlib\n",
    "import jTools\n",
    "importlib.reload(hamiltonians)\n",
    "importlib.reload(ansatze)\n",
    "importlib.reload(kagome)\n",
    "jTools.cellOutputAll()"
   ]
  },
  {
   "cell_type": "markdown",
   "id": "c52acaab",
   "metadata": {},
   "source": [
    "# Boundary Conditions\n",
    "\n",
    "## Sub-lattice\n",
    "### Consider the lattice consisting of Nodes 0, 1, 2, and 3\n",
    "\n",
    "* The full lattice can be built three (3) copies of this sub-lattice\n",
    "* Nodes 0, 4, and 7, the starting corners of each sub-lattice\n",
    "* Impose boundary conditions between 0 <-> 4 <-> 7 <-> 0\n",
    "* Solve the energy level of the sub-lattice 0 thru 4 (5 nodes)\n",
    "   * Use 4 nodes (0-3)\n",
    "   * Boundary conditions to map H entries from 1<->4 and 3<->4\n",
    "\n",
    "Node 4 is  related to Node 0 such that\n",
    "\n",
    "$$\n",
    "    \\psi_4  =K*\\psi_0  \\\\\n",
    "    K^3 = I\n",
    "$$\n",
    "\n",
    "Assuming symetric rotations around the lattice we have\n",
    "\n",
    "$$  \n",
    "   K_i =R_x(\\theta_i)*R_y(\\phi_i)*R_z(\\lambda_i) \\\\ i\\in [0,1,2]  \\\\\n",
    "   \\sum_{i=0}^2\\theta_i = n*2\\pi \\quad n \\in I \\\\\n",
    "   \\sum_{i=0}^2\\phi_i = n*2\\pi  \\\\\n",
    "   \\sum_{i=0}^2\\lambda_i = n*2\\pi  \\\\\n",
    "$$\n",
    " \n",
    "Simple starting points are\n",
    "\n",
    "$$  \n",
    "\\begin{equation}\n",
    "(1) \\quad \\theta_i = \\phi_i = \\lambda_i = 0  \\\\\n",
    "(2) \\quad \\theta_i = \\phi_i = \\lambda_i = \\frac{2\\pi}{3}  \\\\\n",
    "(3) \\quad \\theta_i = \\phi_i = \\lambda_i = \\frac{4\\pi}{3}  \\label{eq1} \\\\\n",
    "\\end{equation}\n",
    "$$\n",
    "\n",
    "For case 1:\n",
    "$$\n",
    "K=I  \\\\\n",
    "\\psi_4 = \\psi_0\n",
    "$$\n",
    "\n",
    "# Adding Boundary Conditions\n",
    "## Add Hamiltonian entries on the boundary\n",
    "Must add $XX + YY + ZZ$ on virtual edges of the sub-lattice for to Node 4\n",
    "$$\\psi_1 \\psi_4 = \\psi_1\\psi_0 + \\psi_1 (K*\\psi_0) \\\\\n",
    "\\psi_3 \\psi_4 = \\psi_3 (K\\psi_0) $$\n",
    "For case 1, $K=I$ the additional Hamiltonian entries are:\n",
    "\n",
    "\\begin{align}\n",
    "H_{case1} =~~ &1.0*(IIZZ+IIYY+IIXX)~~ + \\\\ &1.0*(ZIIZ+YIIY+XIIX) \n",
    "\\end{align}\n"
   ]
  }
 ],
 "metadata": {
  "kernelspec": {
   "display_name": "qiskit release",
   "language": "python",
   "name": "qiskit-rel"
  },
  "language_info": {
   "codemirror_mode": {
    "name": "ipython",
    "version": 3
   },
   "file_extension": ".py",
   "mimetype": "text/x-python",
   "name": "python",
   "nbconvert_exporter": "python",
   "pygments_lexer": "ipython3",
   "version": "3.10.6"
  }
 },
 "nbformat": 4,
 "nbformat_minor": 5
}
