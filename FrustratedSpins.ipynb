{
 "cells": [
  {
   "cell_type": "code",
   "execution_count": 2,
   "id": "9f5de78f",
   "metadata": {},
   "outputs": [
    {
     "name": "stdout",
     "output_type": "stream",
     "text": [
      "Start at Tue Jan 24 14:38:14 2023 UTC\n",
      "\n",
      "Python: sys.version_info(major=3, minor=10, micro=6, releaselevel='final', serial=0)\n",
      "myTools: myTools(major=1, minor=2, micro=0)\n",
      "\n",
      "jTools: jTools(major=1, minor=0, micro=3)\n",
      "Virtual Env /home/richard/jupyter/qis-rel\n",
      "Working Dir: /home/richard/src/qiskit-notebooks/Qiskit-Challenges/open-science-prize-2022\n",
      "qTools: qTools(major=1, minor=1, micro=0)\n",
      "Qiskit: <dict>\n",
      "    qiskit-terra : 0.22.4\n",
      "    qiskit-aer : 0.11.2\n",
      "    qiskit-ignis : 0.7.1\n",
      "    qiskit-ibmq-provider : 0.19.2\n",
      "    qiskit : 0.39.5\n",
      "    qiskit-nature : 0.5.2\n",
      "    qiskit-finance : 0.3.4\n",
      "    qiskit-optimization : 0.4.0\n",
      "    qiskit-machine-learning : None\n",
      "\n"
     ]
    },
    {
     "data": {
      "text/html": [
       "<h3>Version Information</h3><table><tr><th>Qiskit Software</th><th>Version</th></tr><tr><td><code>qiskit-terra</code></td><td>0.22.4</td></tr><tr><td><code>qiskit-aer</code></td><td>0.11.2</td></tr><tr><td><code>qiskit-ignis</code></td><td>0.7.1</td></tr><tr><td><code>qiskit-ibmq-provider</code></td><td>0.19.2</td></tr><tr><td><code>qiskit</code></td><td>0.39.5</td></tr><tr><td><code>qiskit-nature</code></td><td>0.5.2</td></tr><tr><td><code>qiskit-finance</code></td><td>0.3.4</td></tr><tr><td><code>qiskit-optimization</code></td><td>0.4.0</td></tr><tr><th>System information</th></tr><tr><td>Python version</td><td>3.10.6</td></tr><tr><td>Python compiler</td><td>GCC 11.3.0</td></tr><tr><td>Python build</td><td>main, Aug 10 2022 11:40:04</td></tr><tr><td>OS</td><td>Linux</td></tr><tr><td>CPUs</td><td>2</td></tr><tr><td>Memory (Gb)</td><td>31.247413635253906</td></tr><tr><td colspan='2'>Tue Jan 24 08:38:15 2023 CST</td></tr></table>"
      ],
      "text/plain": [
       "<IPython.core.display.HTML object>"
      ]
     },
     "metadata": {},
     "output_type": "display_data"
    }
   ],
   "source": [
    "import myTools\n",
    "import qTools\n",
    "import qPlots\n",
    "import myQiskit\n",
    "import numpy as np\n",
    "import matplotlib.pyplot as plt\n",
    "from myTools import around\n",
    "\n",
    "startTime = myTools.strtime()\n",
    "myJobs = []\n",
    "print(f\"Start at {startTime}\\n\")\n",
    "qVersion=qTools.init_qnotebook(output=True)\n",
    "\n",
    "import qiskit.tools.jupyter\n",
    "%qiskit_version_table"
   ]
  },
  {
   "cell_type": "code",
   "execution_count": 107,
   "id": "9cb028ad",
   "metadata": {},
   "outputs": [
    {
     "name": "stdout",
     "output_type": "stream",
     "text": [
      "XZ =  Matrix([[0, -1], [1, 0]]) \n",
      "\n",
      "RX = [[-1.0*I*sin(θ/2) cos(θ/2)]\n",
      " [cos(θ/2) -1.0*I*sin(θ/2)]]\n",
      "\n",
      "RY = Matrix([[-1.0*sin(θ/2), 1.0*I*cos(θ/2)], [-1.0*I*cos(θ/2), 1.0*sin(θ/2)]])\n",
      "\n",
      "RZ = Matrix([[cos(θ/2), 1.0*I*sin(θ/2)], [-1.0*I*sin(θ/2), -cos(θ/2)]])\n",
      "\n"
     ]
    },
    {
     "data": {
      "image/png": "[encoded data removed]",
      "text/latex": [
       "$\\displaystyle \\left[\\begin{matrix}- 0.707106781186547 i & 0.707106781186548\\\\0.707106781186548 & - 0.707106781186547 i\\end{matrix}\\right]$"
      ],
      "text/plain": [
       "⎡-0.707106781186547⋅ⅈ   0.707106781186548  ⎤\n",
       "⎢                                          ⎥\n",
       "⎣ 0.707106781186548    -0.707106781186547⋅ⅈ⎦"
      ]
     },
     "execution_count": 107,
     "metadata": {},
     "output_type": "execute_result"
    },
    {
     "data": {
      "image/png": "[encoded data removed]",
      "text/latex": [
       "$\\displaystyle \\left[\\begin{matrix}-0.707106781186547 & 0.707106781186548 i\\\\- 0.707106781186548 i & 0.707106781186547\\end{matrix}\\right]$"
      ],
      "text/plain": [
       "⎡ -0.707106781186547   0.707106781186548⋅ⅈ⎤\n",
       "⎢                                         ⎥\n",
       "⎣-0.707106781186548⋅ⅈ   0.707106781186547 ⎦"
      ]
     },
     "execution_count": 107,
     "metadata": {},
     "output_type": "execute_result"
    },
    {
     "data": {
      "image/png": "[encoded data removed]",
      "text/latex": [
       "$\\displaystyle \\left[\\begin{matrix}0.707106781186548 & 0.707106781186547 i\\\\- 0.707106781186547 i & -0.707106781186548\\end{matrix}\\right]$"
      ],
      "text/plain": [
       "⎡ 0.707106781186548    0.707106781186547⋅ⅈ⎤\n",
       "⎢                                         ⎥\n",
       "⎣-0.707106781186547⋅ⅈ  -0.707106781186548 ⎦"
      ]
     },
     "execution_count": 107,
     "metadata": {},
     "output_type": "execute_result"
    }
   ],
   "source": [
    "from sympy import Symbol, cos, sin, init_printing, Matrix\n",
    "import sympy as sp\n",
    "from qiskit.visualization import array_to_latex\n",
    "import matplotlib\n",
    "import jTools\n",
    "jTools.cellOutputAll()\n",
    "init_printing()\n",
    "\n",
    "θ = Symbol('θ')\n",
    "X = Matrix([[0,1],[1,0]])\n",
    "Y = Matrix([[0,1j],[-1j,0]])\n",
    "Z = Matrix([[1,0],[0,-1]])\n",
    "\n",
    "R = Matrix([[cos(θ/2), -1j*sin(θ/2)], [-1j*sin(θ/2), cos(θ/2)]])\n",
    "XZ = X * Z\n",
    "XY = X @ Y\n",
    "YZ = X @ Z\n",
    "RX = R * X\n",
    "RY = R * Y\n",
    "RZ = R * Z\n",
    "\n",
    "print(\"XZ = \",XZ,\"\\n\")\n",
    "print(f\"RX = {np.array(RX)}\\n\")\n",
    "print(f\"RY = {RY}\\n\")\n",
    "print(f\"RZ = {RZ}\\n\")\n",
    "\n",
    "RXP=RX.subs(θ,np.pi/2)\n",
    "RYP=RY.subs(θ,np.pi/2)\n",
    "RZP=RZ.subs(θ,np.pi/2)\n",
    "RXP\n",
    "RYP\n",
    "RZP\n",
    "\n"
   ]
  },
  {
   "cell_type": "code",
   "execution_count": 115,
   "id": "b46fb3d2",
   "metadata": {},
   "outputs": [
    {
     "data": {
      "text/latex": [
       "$$\n",
       "\n",
       "\\begin{bmatrix}\n",
       "-0.01 & 0 & 0 & 0 & 0 & 0 & 0 & 0  \\\\\n",
       " 0 & 19.19 & -7.8 & 0 & 0 & 0 & 0 & 0  \\\\\n",
       " 0 & -7.8 & 12.23 & 0 & -4.28 & 0 & 0 & 0  \\\\\n",
       " 0 & 0 & 0 & 31.43 & 0 & -4.28 & 0 & 0  \\\\\n",
       " 0 & 0 & -4.28 & 0 & -0.43 & 0 & 0 & 0  \\\\\n",
       " 0 & 0 & 0 & -4.28 & 0 & 18.77 & -7.8 & 0  \\\\\n",
       " 0 & 0 & 0 & 0 & 0 & -7.8 & 11.81 & 0  \\\\\n",
       " 0 & 0 & 0 & 0 & 0 & 0 & 0 & 31.01  \\\\\n",
       " \\end{bmatrix}\n",
       "$$"
      ],
      "text/plain": [
       "<IPython.core.display.Latex object>"
      ]
     },
     "execution_count": 115,
     "metadata": {},
     "output_type": "execute_result"
    },
    {
     "data": {
      "text/latex": [
       "$$\n",
       "\n",
       "\\begin{bmatrix}\n",
       "-0.01 & 0 & 0 & 0 & 0 & 0 & 0 & 0  \\\\\n",
       " 0 & 19.19 & -7.8 & 0 & 0 & 0 & 0 & 0  \\\\\n",
       " 0 & -7.8 & 12.23 & 0 & -4.28 & 0 & 0 & 0  \\\\\n",
       " 0 & 0 & 0 & 31.43 & 0 & -4.28 & 0 & 0  \\\\\n",
       " 0 & 0 & -4.28 & 0 & -0.43 & 0 & 0 & 0  \\\\\n",
       " 0 & 0 & 0 & -4.28 & 0 & 18.77 & -7.8 & 0  \\\\\n",
       " 0 & 0 & 0 & 0 & 0 & -7.8 & 11.81 & 0  \\\\\n",
       " 0 & 0 & 0 & 0 & 0 & 0 & 0 & 31.01  \\\\\n",
       " \\end{bmatrix}\n",
       "$$"
      ],
      "text/plain": [
       "<IPython.core.display.Latex object>"
      ]
     },
     "execution_count": 115,
     "metadata": {},
     "output_type": "execute_result"
    },
    {
     "data": {
      "text/plain": [
       "PauliSumOp(SparsePauliOp(['III', 'ZII', 'IZI', 'XXI', 'YYI', 'III', 'IIZ', 'IXX', 'IYY'],\n",
       "              coeffs=[ 5.9 +0.j,  0.21+0.j, -6.12+0.j, -2.14+0.j, -2.14+0.j,  9.6 +0.j,\n",
       " -9.6 +0.j, -3.9 +0.j, -3.9 +0.j]), coeff=1)"
      ]
     },
     "execution_count": 115,
     "metadata": {},
     "output_type": "execute_result"
    }
   ],
   "source": [
    "from qiskit.opflow import X, Y, Z, I\n",
    "H0 = 5.9*(I^I^I) + 0.21*(Z^I^I) - 6.12*(I^Z^I) - 2.14*(X^X^I) - 2.14*(Y^Y^I) + 9.6*(I^I^I) - 9.6*(I^I^Z) - 3.9*(I^X^X) - 3.9*(I^Y^Y)\n",
    "H1 = 5.9*(I^I^I) + 0.21*(Z^I^I) - 6.12*(I^Z^I) - 2.14*(X^X^I) - 2.14*(Y^Y^I)\n",
    "H1 += 9.6*(I^I^I) - 9.6*(I^I^Z) - 3.9*(I^X^X) - 3.9*(I^Y^Y)\n",
    "\n",
    "from qiskit.visualization.array import array_to_latex\n",
    "H0_matrix = H0.to_matrix()\n",
    "array_to_latex(H0_matrix)\n",
    "\n",
    "\n",
    "H1_matrix = H1.to_matrix()\n",
    "array_to_latex(H1_matrix)\n",
    "\n",
    "H1"
   ]
  },
  {
   "cell_type": "code",
   "execution_count": null,
   "id": "301fcf20",
   "metadata": {},
   "outputs": [],
   "source": []
  },
  {
   "cell_type": "code",
   "execution_count": null,
   "id": "b20e5d88",
   "metadata": {},
   "outputs": [],
   "source": [
    "array_to_latex(XZ)\n",
    "from qStats import backend_calibrations\n",
    "bendName = 'ibm_nairobi'\n",
    "calibs = backend_calibrations(bendName)\n",
    "qbit_freqs, pi_amps, pi2_amps = calibs['calib_freqs'], calibs['pi_amps'], calibs['pi2_amps']\n",
    "\n",
    "provider = qTools.get_provider(output=False)\n",
    "backend  = provider.get_backend(bendName)\n",
    "backend_desc, image = myQiskit.backend_description(backend,output=True)\n",
    "image"
   ]
  }
 ],
 "metadata": {
  "kernelspec": {
   "display_name": "qiskit release",
   "language": "python",
   "name": "qiskit-rel"
  },
  "language_info": {
   "codemirror_mode": {
    "name": "ipython",
    "version": 3
   },
   "file_extension": ".py",
   "mimetype": "text/x-python",
   "name": "python",
   "nbconvert_exporter": "python",
   "pygments_lexer": "ipython3",
   "version": "3.10.6"
  }
 },
 "nbformat": 4,
 "nbformat_minor": 5
}
